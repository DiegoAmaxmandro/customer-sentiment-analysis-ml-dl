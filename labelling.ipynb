{
 "cells": [
  {
   "cell_type": "code",
   "execution_count": 1,
   "metadata": {},
   "outputs": [],
   "source": [
    "# Libraries Imports\n",
    "import nltk\n",
    "from nltk.sentiment.vader import SentimentIntensityAnalyzer\n",
    "import pandas as pd\n",
    "import seaborn as sns\n",
    "import matplotlib.pyplot as plt\n",
    "from transformers import pipeline\n",
    "from tqdm import tqdm\n",
    "import matplotlib.pyplot as plt\n",
    "import seaborn as sns\n",
    "import os"
   ]
  },
  {
   "cell_type": "code",
   "execution_count": 4,
   "metadata": {},
   "outputs": [],
   "source": [
    "# Loading the dataset\n",
    "df = pd.read_csv('/Users/diegolemos/Masters/ML/CA2/cleaned_twcs_csv')"
   ]
  },
  {
   "cell_type": "code",
   "execution_count": 5,
   "metadata": {},
   "outputs": [
    {
     "name": "stdout",
     "output_type": "stream",
     "text": [
      "Dataset shape:  (2811774, 10)\n"
     ]
    },
    {
     "data": {
      "text/html": [
       "<div>\n",
       "<style scoped>\n",
       "    .dataframe tbody tr th:only-of-type {\n",
       "        vertical-align: middle;\n",
       "    }\n",
       "\n",
       "    .dataframe tbody tr th {\n",
       "        vertical-align: top;\n",
       "    }\n",
       "\n",
       "    .dataframe thead th {\n",
       "        text-align: right;\n",
       "    }\n",
       "</style>\n",
       "<table border=\"1\" class=\"dataframe\">\n",
       "  <thead>\n",
       "    <tr style=\"text-align: right;\">\n",
       "      <th></th>\n",
       "      <th>tweet_id</th>\n",
       "      <th>author_id</th>\n",
       "      <th>inbound</th>\n",
       "      <th>created_at</th>\n",
       "      <th>text</th>\n",
       "      <th>response_tweet_id</th>\n",
       "      <th>in_response_to_tweet_id</th>\n",
       "      <th>conversation_id</th>\n",
       "      <th>message_length</th>\n",
       "      <th>clean_text</th>\n",
       "    </tr>\n",
       "  </thead>\n",
       "  <tbody>\n",
       "    <tr>\n",
       "      <th>0</th>\n",
       "      <td>1</td>\n",
       "      <td>sprintcare</td>\n",
       "      <td>False</td>\n",
       "      <td>Tue Oct 31 22:10:47 +0000 2017</td>\n",
       "      <td>@115712 I understand. I would like to assist y...</td>\n",
       "      <td>2</td>\n",
       "      <td>3.0</td>\n",
       "      <td>3.0</td>\n",
       "      <td>121</td>\n",
       "      <td>i understand i would like to assist you we wou...</td>\n",
       "    </tr>\n",
       "    <tr>\n",
       "      <th>1</th>\n",
       "      <td>2</td>\n",
       "      <td>115712</td>\n",
       "      <td>True</td>\n",
       "      <td>Tue Oct 31 22:11:45 +0000 2017</td>\n",
       "      <td>@sprintcare and how do you propose we do that</td>\n",
       "      <td>NaN</td>\n",
       "      <td>1.0</td>\n",
       "      <td>1.0</td>\n",
       "      <td>45</td>\n",
       "      <td>and how do you propose we do that</td>\n",
       "    </tr>\n",
       "    <tr>\n",
       "      <th>2</th>\n",
       "      <td>3</td>\n",
       "      <td>115712</td>\n",
       "      <td>True</td>\n",
       "      <td>Tue Oct 31 22:08:27 +0000 2017</td>\n",
       "      <td>@sprintcare I have sent several private messag...</td>\n",
       "      <td>1</td>\n",
       "      <td>4.0</td>\n",
       "      <td>4.0</td>\n",
       "      <td>82</td>\n",
       "      <td>i have sent several private messages and no on...</td>\n",
       "    </tr>\n",
       "    <tr>\n",
       "      <th>3</th>\n",
       "      <td>4</td>\n",
       "      <td>sprintcare</td>\n",
       "      <td>False</td>\n",
       "      <td>Tue Oct 31 21:54:49 +0000 2017</td>\n",
       "      <td>@115712 Please send us a Private Message so th...</td>\n",
       "      <td>3</td>\n",
       "      <td>5.0</td>\n",
       "      <td>5.0</td>\n",
       "      <td>124</td>\n",
       "      <td>please send us a private message so that we ca...</td>\n",
       "    </tr>\n",
       "    <tr>\n",
       "      <th>4</th>\n",
       "      <td>5</td>\n",
       "      <td>115712</td>\n",
       "      <td>True</td>\n",
       "      <td>Tue Oct 31 21:49:35 +0000 2017</td>\n",
       "      <td>@sprintcare I did.</td>\n",
       "      <td>4</td>\n",
       "      <td>6.0</td>\n",
       "      <td>6.0</td>\n",
       "      <td>18</td>\n",
       "      <td>i did</td>\n",
       "    </tr>\n",
       "  </tbody>\n",
       "</table>\n",
       "</div>"
      ],
      "text/plain": [
       "   tweet_id   author_id  inbound                      created_at  \\\n",
       "0         1  sprintcare    False  Tue Oct 31 22:10:47 +0000 2017   \n",
       "1         2      115712     True  Tue Oct 31 22:11:45 +0000 2017   \n",
       "2         3      115712     True  Tue Oct 31 22:08:27 +0000 2017   \n",
       "3         4  sprintcare    False  Tue Oct 31 21:54:49 +0000 2017   \n",
       "4         5      115712     True  Tue Oct 31 21:49:35 +0000 2017   \n",
       "\n",
       "                                                text response_tweet_id  \\\n",
       "0  @115712 I understand. I would like to assist y...                 2   \n",
       "1      @sprintcare and how do you propose we do that               NaN   \n",
       "2  @sprintcare I have sent several private messag...                 1   \n",
       "3  @115712 Please send us a Private Message so th...                 3   \n",
       "4                                 @sprintcare I did.                 4   \n",
       "\n",
       "   in_response_to_tweet_id  conversation_id  message_length  \\\n",
       "0                      3.0              3.0             121   \n",
       "1                      1.0              1.0              45   \n",
       "2                      4.0              4.0              82   \n",
       "3                      5.0              5.0             124   \n",
       "4                      6.0              6.0              18   \n",
       "\n",
       "                                          clean_text  \n",
       "0  i understand i would like to assist you we wou...  \n",
       "1                  and how do you propose we do that  \n",
       "2  i have sent several private messages and no on...  \n",
       "3  please send us a private message so that we ca...  \n",
       "4                                              i did  "
      ]
     },
     "execution_count": 5,
     "metadata": {},
     "output_type": "execute_result"
    }
   ],
   "source": [
    "# Checking dataset information\n",
    "print(\"Dataset shape: \", df.shape)\n",
    "df.head()"
   ]
  },
  {
   "cell_type": "markdown",
   "metadata": {},
   "source": [
    "### VADER"
   ]
  },
  {
   "cell_type": "code",
   "execution_count": 6,
   "metadata": {},
   "outputs": [
    {
     "name": "stderr",
     "output_type": "stream",
     "text": [
      "[nltk_data] Downloading package vader_lexicon to\n",
      "[nltk_data]     /Users/diegolemos/nltk_data...\n",
      "[nltk_data]   Package vader_lexicon is already up-to-date!\n"
     ]
    }
   ],
   "source": [
    "# Initialising Vader\n",
    "nltk.download('vader_lexicon')\n",
    "vader = SentimentIntensityAnalyzer()"
   ]
  },
  {
   "cell_type": "code",
   "execution_count": 7,
   "metadata": {},
   "outputs": [],
   "source": [
    "# Defyning Sentiment Classification Function\n",
    "def vader_sentiment(text):\n",
    "    if not isinstance(text, str):\n",
    "        return 'neutral'\n",
    "    score = vader.polarity_scores(text)['compound']\n",
    "    if score >= 0.05:\n",
    "        return 'positive'\n",
    "    elif score <= -0.05:\n",
    "        return 'negative'\n",
    "    else:\n",
    "        return 'neutral'"
   ]
  },
  {
   "cell_type": "code",
   "execution_count": 8,
   "metadata": {},
   "outputs": [],
   "source": [
    "# Filtering customer messages\n",
    "df_customer = df[df['inbound'] == True].copy()"
   ]
  },
  {
   "cell_type": "code",
   "execution_count": 9,
   "metadata": {},
   "outputs": [],
   "source": [
    "# Applying Vader to clean customer messages\n",
    "df_customer['vader_sentiment'] =  df_customer['clean_text'].apply(vader_sentiment)"
   ]
  },
  {
   "cell_type": "code",
   "execution_count": 10,
   "metadata": {},
   "outputs": [
    {
     "data": {
      "text/plain": [
       "vader_sentiment\n",
       "positive    580472\n",
       "negative    490783\n",
       "neutral     466588\n",
       "Name: count, dtype: int64"
      ]
     },
     "execution_count": 10,
     "metadata": {},
     "output_type": "execute_result"
    }
   ],
   "source": [
    "#Checking Distribution\n",
    "df_customer['vader_sentiment'].value_counts() "
   ]
  },
  {
   "cell_type": "code",
   "execution_count": 11,
   "metadata": {},
   "outputs": [
    {
     "data": {
      "image/png": "[encoded data removed]",
      "text/plain": [
       "<Figure size 640x480 with 1 Axes>"
      ]
     },
     "metadata": {},
     "output_type": "display_data"
    }
   ],
   "source": [
    "# Plotting Sentiment Distribution\n",
    "sns.countplot(data=df_customer, x='vader_sentiment')\n",
    "plt.title('VADER Sentiment Distribution')\n",
    "plt.xlabel('Sentiment')\n",
    "plt.ylabel('Tweet Count')\n",
    "plt.show()\n"
   ]
  },
  {
   "cell_type": "markdown",
   "metadata": {},
   "source": [
    "#### Insight\n",
    "To beggin with the sentiment labelling, we have applied the VADER (Valence Aware Dictionary and sEntiment Reasoner), a lexcon and rule-based sentiment analysis tool. It was used on customer messages especifically, those where  'inbound' was equal (==) to 'True'. The VADER logic classifies  as positive if compound score is >= 0.05, negative  if it is <= -0.05 and neutral otherwise.\n",
    "\n",
    "This labelling step is part of this projects' weak sepervision strategy, where we are goint to assign sentiment label to unlabelled customer messages, these labels will be later used directly for model training (ML and DL), compered with labels from transformer-based models like DistilBERT and refine with human review."
   ]
  },
  {
   "cell_type": "markdown",
   "metadata": {},
   "source": [
    "### DistilBERT"
   ]
  },
  {
   "cell_type": "code",
   "execution_count": 12,
   "metadata": {},
   "outputs": [
    {
     "name": "stderr",
     "output_type": "stream",
     "text": [
      "Device set to use mps:0\n"
     ]
    }
   ],
   "source": [
    "# Loading Pre-Trained DistilBERT\n",
    "classifier = pipeline('sentiment-analysis', model = 'distilbert-base-uncased-finetuned-sst-2-english', framework = 'pt')"
   ]
  },
  {
   "cell_type": "code",
   "execution_count": null,
   "metadata": {},
   "outputs": [],
   "source": [
    "# Applying DistilBERT Sentiment Classification On The Dataset\n",
    "\n",
    "# Making sure all text is string\n",
    "df_customer['clean_text'] = df_customer['clean_text'].astype(str)\n",
    "\n",
    "\n",
    "def distilbert_sentiment_batch(texts, batch_size=128):\n",
    "    result = []\n",
    "    for i in tqdm(range(0, len(texts), batch_size), desc=\"DistilBERT Sentiment\"):\n",
    "        batch = texts[i: i + batch_size].tolist()\n",
    "        outputs = classifier(batch)\n",
    "        result.extend([output['label'].lower() for output in outputs])\n",
    "    return result\n",
    "\n",
    "# Splitting dataset into chunks\n",
    "chunk_size = len(df_customer) // 4\n",
    "chunks = [df_customer.iloc[i:i+chunk_size] for i in range(0, len(df_customer), chunk_size)]\n",
    "\n",
    "# Applying the sentiment and saving each chunk\n",
    "for idx, chunk in enumerate(chunks):\n",
    "    print(f\"\\n Processing chunk {idx+1}/{len(chunks)}\")\n",
    "    chunk['distilbert_sentiment'] = distilbert_sentiment_batch(chunk['clean_text'])\n",
    "    chunk.to_csv(f\"distilbert_chunk_{idx+1}.csv\", index=False)\n",
    "    \n",
    "# Recombining the chunks into a full dataset\n",
    "df_customer = pd.concat([pd.read_csv(f\"distilbert_chunk_{i+1}.csv\") for i in range(len(chunks))], ignore_index=True)\n"
   ]
  },
  {
   "cell_type": "code",
   "execution_count": 14,
   "metadata": {},
   "outputs": [
    {
     "name": "stdout",
     "output_type": "stream",
     "text": [
      "Index(['tweet_id', 'author_id', 'inbound', 'created_at', 'text',\n",
      "       'response_tweet_id', 'in_response_to_tweet_id', 'conversation_id',\n",
      "       'message_length', 'clean_text', 'vader_sentiment',\n",
      "       'distilbert_sentiment'],\n",
      "      dtype='object')\n",
      "                                          clean_text distilbert_sentiment\n",
      "0                  and how do you propose we do that             positive\n",
      "1  i have sent several private messages and no on...             negative\n",
      "2                                              i did             positive\n",
      "3                      is the worst customer service             negative\n",
      "4  you gonna magically change your connectivity f...             positive\n"
     ]
    }
   ],
   "source": [
    "# Loading the chunks\n",
    "df_chunks = [pd.read_csv(f\"distilbert_chunk_{i+1}.csv\") for i in range(5)]\n",
    "\n",
    "# Merging chunks\n",
    "df_customer = pd.concat(df_chunks, ignore_index=True)\n",
    "\n",
    "print(df_customer.columns)\n",
    "print(df_customer[['clean_text', 'distilbert_sentiment']].head())"
   ]
  },
  {
   "cell_type": "code",
   "execution_count": 16,
   "metadata": {},
   "outputs": [],
   "source": [
    "# Saving the result\n",
    "df_customer.to_csv(\"labelled_data.csv\", index=False)\n",
    "df_customer.to_pickle(\"labelled_data.pkl\") "
   ]
  },
  {
   "cell_type": "code",
   "execution_count": null,
   "metadata": {},
   "outputs": [
    {
     "data": {
      "text/html": [
       "<div>\n",
       "<style scoped>\n",
       "    .dataframe tbody tr th:only-of-type {\n",
       "        vertical-align: middle;\n",
       "    }\n",
       "\n",
       "    .dataframe tbody tr th {\n",
       "        vertical-align: top;\n",
       "    }\n",
       "\n",
       "    .dataframe thead th {\n",
       "        text-align: right;\n",
       "    }\n",
       "</style>\n",
       "<table border=\"1\" class=\"dataframe\">\n",
       "  <thead>\n",
       "    <tr style=\"text-align: right;\">\n",
       "      <th></th>\n",
       "      <th>clean_text</th>\n",
       "      <th>distilbert_sentiment</th>\n",
       "    </tr>\n",
       "  </thead>\n",
       "  <tbody>\n",
       "    <tr>\n",
       "      <th>0</th>\n",
       "      <td>and how do you propose we do that</td>\n",
       "      <td>positive</td>\n",
       "    </tr>\n",
       "    <tr>\n",
       "      <th>1</th>\n",
       "      <td>i have sent several private messages and no on...</td>\n",
       "      <td>negative</td>\n",
       "    </tr>\n",
       "    <tr>\n",
       "      <th>2</th>\n",
       "      <td>i did</td>\n",
       "      <td>positive</td>\n",
       "    </tr>\n",
       "    <tr>\n",
       "      <th>3</th>\n",
       "      <td>is the worst customer service</td>\n",
       "      <td>negative</td>\n",
       "    </tr>\n",
       "    <tr>\n",
       "      <th>4</th>\n",
       "      <td>you gonna magically change your connectivity f...</td>\n",
       "      <td>positive</td>\n",
       "    </tr>\n",
       "    <tr>\n",
       "      <th>5</th>\n",
       "      <td>since i signed up with yousince day 1</td>\n",
       "      <td>positive</td>\n",
       "    </tr>\n",
       "    <tr>\n",
       "      <th>6</th>\n",
       "      <td>yall lie about your great connection 5 bars lt...</td>\n",
       "      <td>negative</td>\n",
       "    </tr>\n",
       "    <tr>\n",
       "      <th>7</th>\n",
       "      <td>whenever i contact customer support, they tell...</td>\n",
       "      <td>negative</td>\n",
       "    </tr>\n",
       "    <tr>\n",
       "      <th>8</th>\n",
       "      <td>would you like me to email you a copy of one s...</td>\n",
       "      <td>negative</td>\n",
       "    </tr>\n",
       "    <tr>\n",
       "      <th>9</th>\n",
       "      <td>i received this from your corporate office wou...</td>\n",
       "      <td>negative</td>\n",
       "    </tr>\n",
       "  </tbody>\n",
       "</table>\n",
       "</div>"
      ],
      "text/plain": [
       "                                          clean_text distilbert_sentiment\n",
       "0                  and how do you propose we do that             positive\n",
       "1  i have sent several private messages and no on...             negative\n",
       "2                                              i did             positive\n",
       "3                      is the worst customer service             negative\n",
       "4  you gonna magically change your connectivity f...             positive\n",
       "5              since i signed up with yousince day 1             positive\n",
       "6  yall lie about your great connection 5 bars lt...             negative\n",
       "7  whenever i contact customer support, they tell...             negative\n",
       "8  would you like me to email you a copy of one s...             negative\n",
       "9  i received this from your corporate office wou...             negative"
      ]
     },
     "execution_count": 17,
     "metadata": {},
     "output_type": "execute_result"
    }
   ],
   "source": [
    "# Checking DistilBERT labelling\n",
    "df_customer[['clean_text', 'distilbert_sentiment']].head(10)\n"
   ]
  },
  {
   "cell_type": "markdown",
   "metadata": {},
   "source": [
    "#### Insight\n",
    "To complement the sentiment labelling using VADER, we have also applied DistilBERT, a lightweight transformer-based language model fine-tuned for sentiment analysis (distilbert-base-uncased-finetuned-sst-2-english).\n",
    "\n",
    "DistilBERT improves deep learnig and contextual embedding to classify messages as positive and negative with a higher level of semantic undestanding compared to a traditional lexicon-based approches.\n",
    "\n",
    "We used DistilBERT with the objective of introduce a more context-aware perspective into the weak supervision strategy, this model has been applied to the same subset of customer message or 'inbound = true' and resulting predictions will be used to compare and potentially combine with the VADER labels to improve overall label quality.\n",
    "\n",
    "This process is crutial for generating pseudo-lebels that will later be used for training supervised machine learning and deep learning models."
   ]
  },
  {
   "cell_type": "markdown",
   "metadata": {},
   "source": [
    "### RoBERTa"
   ]
  },
  {
   "cell_type": "code",
   "execution_count": 2,
   "metadata": {},
   "outputs": [
    {
     "name": "stderr",
     "output_type": "stream",
     "text": [
      "Device set to use mps:0\n"
     ]
    }
   ],
   "source": [
    "# Loading Pre-Treined RoBERTa \n",
    "roberta_classifier = pipeline(\"sentiment-analysis\", model = \"cardiffnlp/twitter-roberta-base-sentiment\", framework = 'pt')"
   ]
  },
  {
   "cell_type": "code",
   "execution_count": 3,
   "metadata": {},
   "outputs": [
    {
     "name": "stdout",
     "output_type": "stream",
     "text": [
      " Skipping already processed chunk 1\n",
      "\n",
      " Processing RoBERTa chunk 2/6\n"
     ]
    },
    {
     "name": "stderr",
     "output_type": "stream",
     "text": [
      "RoBERTa Sentiment: 100%|██████████| 2403/2403 [1:33:49<00:00,  2.34s/it]\n"
     ]
    },
    {
     "name": "stdout",
     "output_type": "stream",
     "text": [
      "\n",
      " Processing RoBERTa chunk 3/6\n"
     ]
    },
    {
     "name": "stderr",
     "output_type": "stream",
     "text": [
      "RoBERTa Sentiment: 100%|██████████| 2403/2403 [1:33:13<00:00,  2.33s/it]\n"
     ]
    },
    {
     "name": "stdout",
     "output_type": "stream",
     "text": [
      "\n",
      " Processing RoBERTa chunk 4/6\n"
     ]
    },
    {
     "name": "stderr",
     "output_type": "stream",
     "text": [
      "RoBERTa Sentiment: 100%|██████████| 2403/2403 [1:36:31<00:00,  2.41s/it]\n"
     ]
    },
    {
     "name": "stdout",
     "output_type": "stream",
     "text": [
      "\n",
      " Processing RoBERTa chunk 5/6\n"
     ]
    },
    {
     "name": "stderr",
     "output_type": "stream",
     "text": [
      "RoBERTa Sentiment: 100%|██████████| 2403/2403 [1:40:04<00:00,  2.50s/it]\n"
     ]
    },
    {
     "name": "stdout",
     "output_type": "stream",
     "text": [
      "\n",
      " Processing RoBERTa chunk 6/6\n"
     ]
    },
    {
     "name": "stderr",
     "output_type": "stream",
     "text": [
      "RoBERTa Sentiment: 100%|██████████| 1/1 [00:00<00:00,  6.19it/s]\n"
     ]
    }
   ],
   "source": [
    "# Defining batch classification function\n",
    "df_customer = pd.read_pickle(\"/Users/diegolemos/Masters/ML/CA2/labelled_data.pkl\")\n",
    "df_customer['clean_text'] = df_customer['clean_text'].astype(str)\n",
    "\n",
    "def roberta_sentiment_batch(texts, batch_size=128):\n",
    "    result = []\n",
    "    for i in tqdm(range(0, len(texts), batch_size), desc=\"RoBERTa Sentiment\"):\n",
    "        batch = texts[i: i + batch_size].tolist()\n",
    "        outputs = roberta_classifier(batch)\n",
    "        result.extend([output['label'].lower() for output in outputs])\n",
    "    return result\n",
    "\n",
    "# Splitting in chuncks\n",
    "chunk_size = len(df_customer) // 5\n",
    "chunks = [df_customer.iloc[i:i+chunk_size].copy() for i in range(0, len(df_customer), chunk_size)]\n",
    "\n",
    "# List of completed chunks, automatically detected\n",
    "completed_chunks = [i + 1 for i in range(len(chunks)) if os.path.exists(f\"roberta_chunk_{i+1}.csv\")]\n",
    "\n",
    "# Running and saving the chunks\n",
    "for idx, chunk in enumerate(chunks):\n",
    "    chunk_id = idx + 1\n",
    "    if chunk_id in completed_chunks:\n",
    "        print(f\" Skipping already processed chunk {chunk_id}\")\n",
    "        continue\n",
    "\n",
    "    print(f\"\\n Processing RoBERTa chunk {chunk_id}/{len(chunks)}\")\n",
    "    chunk['roberta_sentiment'] = roberta_sentiment_batch(chunk['clean_text'])\n",
    "    chunk.to_csv(f\"roberta_chunk_{idx+1}.csv\", index=False)\n",
    "    \n",
    "# Recombining the chunks into a full dataset\n",
    "df_roberta_chunks = [pd.read_csv(f\"roberta_chunk_{chunk_id}.csv\") for i in range(len(chunks))]\n",
    "df_customer = pd.concat(df_roberta_chunks, ignore_index=True)\n",
    "\n",
    "# Saving the update dataframe\n",
    "df_customer.to_csv(\"labelled_data_with_roberta.csv\", index=False)\n",
    "df_customer.to_pickle(\"labelled_data_with_roberta.pkl\")"
   ]
  },
  {
   "cell_type": "markdown",
   "metadata": {},
   "source": [
    "#### Note\n",
    "The file 'labelled_data_with_roberta.pkl' was not saved properly, so we will need to recover the RoBERTa labelling."
   ]
  },
  {
   "cell_type": "code",
   "execution_count": 38,
   "metadata": {},
   "outputs": [
    {
     "name": "stdout",
     "output_type": "stream",
     "text": [
      "Total rows after recombining: 1537843\n",
      "RoBERTa unique labels: ['label_1' 'label_0' 'label_2']\n"
     ]
    }
   ],
   "source": [
    "# Loading RoBERTa chunks\n",
    "roberta_chunks = [pd.read_csv(f'roberta_chunk_{i+1}.csv') for i in range(6)]\n",
    "\n",
    "# Concatenating in a full Dataframe\n",
    "df_customer = pd.concat(roberta_chunks, ignore_index = True)\n",
    "\n",
    "# Checking full dataset\n",
    "print(f'Total rows after recombining: {len(df_customer)}')\n",
    "print(f'RoBERTa unique labels: {df_customer['roberta_sentiment'].unique()}')"
   ]
  },
  {
   "cell_type": "code",
   "execution_count": 39,
   "metadata": {},
   "outputs": [
    {
     "name": "stdout",
     "output_type": "stream",
     "text": [
      "roberta_sentiment\n",
      "negative    722823\n",
      "neutral     600990\n",
      "positive    214030\n",
      "Name: count, dtype: int64\n"
     ]
    }
   ],
   "source": [
    "#  Mapping RoBERTa labels\n",
    "\n",
    "# Normalizing text to lowercase\n",
    "df_customer['roberta_sentiment'] = df_customer['roberta_sentiment'].astype(str).str.strip().str.lower()\n",
    "\n",
    "# Mapping numeric labels to sentiment\n",
    "map_label = {\n",
    "    'label_0' : 'negative',\n",
    "    'label_1' : 'neutral',\n",
    "    'label_2' : 'positive' \n",
    "}\n",
    "\n",
    "df_customer['roberta_sentiment'] = df_customer['roberta_sentiment'].map(map_label)\n",
    "\n",
    "# Checking resilts\n",
    "print(df_customer['roberta_sentiment'].value_counts(dropna = False))"
   ]
  },
  {
   "cell_type": "code",
   "execution_count": 40,
   "metadata": {},
   "outputs": [],
   "source": [
    "# Saving final labelled dataset\n",
    "df_customer.to_csv('labelled_data_with_roberta.csv', index = False)\n",
    "df_customer.to_pickle('labelled_data_with_roberta.pkl')"
   ]
  },
  {
   "cell_type": "code",
   "execution_count": 41,
   "metadata": {},
   "outputs": [
    {
     "data": {
      "text/html": [
       "<div>\n",
       "<style scoped>\n",
       "    .dataframe tbody tr th:only-of-type {\n",
       "        vertical-align: middle;\n",
       "    }\n",
       "\n",
       "    .dataframe tbody tr th {\n",
       "        vertical-align: top;\n",
       "    }\n",
       "\n",
       "    .dataframe thead th {\n",
       "        text-align: right;\n",
       "    }\n",
       "</style>\n",
       "<table border=\"1\" class=\"dataframe\">\n",
       "  <thead>\n",
       "    <tr style=\"text-align: right;\">\n",
       "      <th></th>\n",
       "      <th>clean_text</th>\n",
       "      <th>roberta_sentiment</th>\n",
       "    </tr>\n",
       "  </thead>\n",
       "  <tbody>\n",
       "    <tr>\n",
       "      <th>0</th>\n",
       "      <td>and how do you propose we do that</td>\n",
       "      <td>neutral</td>\n",
       "    </tr>\n",
       "    <tr>\n",
       "      <th>1</th>\n",
       "      <td>i have sent several private messages and no on...</td>\n",
       "      <td>negative</td>\n",
       "    </tr>\n",
       "    <tr>\n",
       "      <th>2</th>\n",
       "      <td>i did</td>\n",
       "      <td>neutral</td>\n",
       "    </tr>\n",
       "    <tr>\n",
       "      <th>3</th>\n",
       "      <td>is the worst customer service</td>\n",
       "      <td>negative</td>\n",
       "    </tr>\n",
       "    <tr>\n",
       "      <th>4</th>\n",
       "      <td>you gonna magically change your connectivity f...</td>\n",
       "      <td>neutral</td>\n",
       "    </tr>\n",
       "    <tr>\n",
       "      <th>5</th>\n",
       "      <td>since i signed up with yousince day 1</td>\n",
       "      <td>neutral</td>\n",
       "    </tr>\n",
       "    <tr>\n",
       "      <th>6</th>\n",
       "      <td>yall lie about your great connection 5 bars lt...</td>\n",
       "      <td>negative</td>\n",
       "    </tr>\n",
       "    <tr>\n",
       "      <th>7</th>\n",
       "      <td>whenever i contact customer support, they tell...</td>\n",
       "      <td>negative</td>\n",
       "    </tr>\n",
       "    <tr>\n",
       "      <th>8</th>\n",
       "      <td>would you like me to email you a copy of one s...</td>\n",
       "      <td>neutral</td>\n",
       "    </tr>\n",
       "    <tr>\n",
       "      <th>9</th>\n",
       "      <td>i received this from your corporate office wou...</td>\n",
       "      <td>neutral</td>\n",
       "    </tr>\n",
       "  </tbody>\n",
       "</table>\n",
       "</div>"
      ],
      "text/plain": [
       "                                          clean_text roberta_sentiment\n",
       "0                  and how do you propose we do that           neutral\n",
       "1  i have sent several private messages and no on...          negative\n",
       "2                                              i did           neutral\n",
       "3                      is the worst customer service          negative\n",
       "4  you gonna magically change your connectivity f...           neutral\n",
       "5              since i signed up with yousince day 1           neutral\n",
       "6  yall lie about your great connection 5 bars lt...          negative\n",
       "7  whenever i contact customer support, they tell...          negative\n",
       "8  would you like me to email you a copy of one s...           neutral\n",
       "9  i received this from your corporate office wou...           neutral"
      ]
     },
     "execution_count": 41,
     "metadata": {},
     "output_type": "execute_result"
    }
   ],
   "source": [
    "# Checking RoBERTa labelling\n",
    "df_customer[['clean_text', 'roberta_sentiment']].head(10)"
   ]
  },
  {
   "cell_type": "markdown",
   "metadata": {},
   "source": [
    "#### Insight\n",
    "We have also used RoBERTa, another powerful transformer-based model that has been pre-trained on an extensive corpus of English text and is tailored for subsequent NLP tasks, to improve sentiment labeling even more, in particular, we employed a 'cardiffnlp/twitter-roberta-base-sentiment-based' sentiment classification pipeline.\n",
    "\n",
    "RoBERTa performs exceptionally well on sentiment analysis tasks, especially when used for casual customer messages or social media. It is particularly well-suited for our dataset because of its pretraining on Twitter data, which improves its ability to capture subtleties, slang, and short-form language.\n",
    "\n",
    "Label_0, label_1, and label_2 are the sentiment labels assigned by the RoBERTa classifier, these represent negative, neutral, and positive sentiments, respectively. Later, these were converted into labels that people could read.\n",
    "\n",
    "In order expand our weak supervision approach, we employed RoBERTa as a complementary model in addition to VADER and DistilBERT. The objective was to increase label accuracy by utilizing its contextual and domain-aware knowledge. By comparing predictions from different models, inconsistencies can be found and more trustworthy pseudo-labels can be created for use in training machine learning and deep learning models later on."
   ]
  },
  {
   "cell_type": "markdown",
   "metadata": {},
   "source": [
    "### VADER VS DistilBERT VS RoBERTa Label Comparison"
   ]
  },
  {
   "cell_type": "code",
   "execution_count": 42,
   "metadata": {},
   "outputs": [
    {
     "data": {
      "text/html": [
       "<div>\n",
       "<style scoped>\n",
       "    .dataframe tbody tr th:only-of-type {\n",
       "        vertical-align: middle;\n",
       "    }\n",
       "\n",
       "    .dataframe tbody tr th {\n",
       "        vertical-align: top;\n",
       "    }\n",
       "\n",
       "    .dataframe thead th {\n",
       "        text-align: right;\n",
       "    }\n",
       "</style>\n",
       "<table border=\"1\" class=\"dataframe\">\n",
       "  <thead>\n",
       "    <tr style=\"text-align: right;\">\n",
       "      <th></th>\n",
       "      <th>vader_sentiment</th>\n",
       "      <th>distilbert_sentiment</th>\n",
       "      <th>roberta_sentiment</th>\n",
       "    </tr>\n",
       "  </thead>\n",
       "  <tbody>\n",
       "    <tr>\n",
       "      <th>0</th>\n",
       "      <td>neutral</td>\n",
       "      <td>positive</td>\n",
       "      <td>neutral</td>\n",
       "    </tr>\n",
       "    <tr>\n",
       "      <th>1</th>\n",
       "      <td>negative</td>\n",
       "      <td>negative</td>\n",
       "      <td>negative</td>\n",
       "    </tr>\n",
       "    <tr>\n",
       "      <th>2</th>\n",
       "      <td>neutral</td>\n",
       "      <td>positive</td>\n",
       "      <td>neutral</td>\n",
       "    </tr>\n",
       "    <tr>\n",
       "      <th>3</th>\n",
       "      <td>negative</td>\n",
       "      <td>negative</td>\n",
       "      <td>negative</td>\n",
       "    </tr>\n",
       "    <tr>\n",
       "      <th>4</th>\n",
       "      <td>neutral</td>\n",
       "      <td>positive</td>\n",
       "      <td>neutral</td>\n",
       "    </tr>\n",
       "  </tbody>\n",
       "</table>\n",
       "</div>"
      ],
      "text/plain": [
       "  vader_sentiment distilbert_sentiment roberta_sentiment\n",
       "0         neutral             positive           neutral\n",
       "1        negative             negative          negative\n",
       "2         neutral             positive           neutral\n",
       "3        negative             negative          negative\n",
       "4         neutral             positive           neutral"
      ]
     },
     "execution_count": 42,
     "metadata": {},
     "output_type": "execute_result"
    }
   ],
   "source": [
    "# Loading the combined dataframe\n",
    "df = pd.read_pickle(\"labelled_data_with_roberta.pkl\")\n",
    "df[['vader_sentiment', 'distilbert_sentiment', 'roberta_sentiment']].head()"
   ]
  },
  {
   "cell_type": "code",
   "execution_count": null,
   "metadata": {},
   "outputs": [],
   "source": []
  }
 ],
 "metadata": {
  "kernelspec": {
   "display_name": "base",
   "language": "python",
   "name": "python3"
  },
  "language_info": {
   "codemirror_mode": {
    "name": "ipython",
    "version": 3
   },
   "file_extension": ".py",
   "mimetype": "text/x-python",
   "name": "python",
   "nbconvert_exporter": "python",
   "pygments_lexer": "ipython3",
   "version": "3.12.4"
  }
 },
 "nbformat": 4,
 "nbformat_minor": 2
}
