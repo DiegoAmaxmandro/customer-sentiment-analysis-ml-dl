{
 "cells": [
  {
   "cell_type": "code",
   "execution_count": 11,
   "id": "0c10957f",
   "metadata": {},
   "outputs": [],
   "source": [
    "# Imports\n",
    "import pandas as pd\n",
    "from sklearn.model_selection import train_test_split\n",
    "from sklearn.feature_extraction.text import TfidfVectorizer\n",
    "from sklearn.svm import LinearSVC\n",
    "from sklearn.ensemble import RandomForestClassifier\n",
    "from sklearn.metrics import classification_report\n",
    "import matplotlib.pyplot as plt"
   ]
  },
  {
   "cell_type": "code",
   "execution_count": 2,
   "id": "6db921bd",
   "metadata": {},
   "outputs": [
    {
     "data": {
      "text/html": [
       "<div>\n",
       "<style scoped>\n",
       "    .dataframe tbody tr th:only-of-type {\n",
       "        vertical-align: middle;\n",
       "    }\n",
       "\n",
       "    .dataframe tbody tr th {\n",
       "        vertical-align: top;\n",
       "    }\n",
       "\n",
       "    .dataframe thead th {\n",
       "        text-align: right;\n",
       "    }\n",
       "</style>\n",
       "<table border=\"1\" class=\"dataframe\">\n",
       "  <thead>\n",
       "    <tr style=\"text-align: right;\">\n",
       "      <th></th>\n",
       "      <th>tweet_id</th>\n",
       "      <th>author_id</th>\n",
       "      <th>inbound</th>\n",
       "      <th>created_at</th>\n",
       "      <th>text</th>\n",
       "      <th>response_tweet_id</th>\n",
       "      <th>in_response_to_tweet_id</th>\n",
       "      <th>conversation_id</th>\n",
       "      <th>message_length</th>\n",
       "      <th>clean_text</th>\n",
       "      <th>vader_sentiment</th>\n",
       "      <th>distilbert_sentiment</th>\n",
       "      <th>roberta_sentiment</th>\n",
       "      <th>final_label</th>\n",
       "    </tr>\n",
       "  </thead>\n",
       "  <tbody>\n",
       "    <tr>\n",
       "      <th>0</th>\n",
       "      <td>2</td>\n",
       "      <td>115712</td>\n",
       "      <td>True</td>\n",
       "      <td>Tue Oct 31 22:11:45 +0000 2017</td>\n",
       "      <td>@sprintcare and how do you propose we do that</td>\n",
       "      <td>NaN</td>\n",
       "      <td>1.0</td>\n",
       "      <td>1.0</td>\n",
       "      <td>45</td>\n",
       "      <td>and how do you propose we do that</td>\n",
       "      <td>neutral</td>\n",
       "      <td>positive</td>\n",
       "      <td>neutral</td>\n",
       "      <td>neutral</td>\n",
       "    </tr>\n",
       "    <tr>\n",
       "      <th>1</th>\n",
       "      <td>3</td>\n",
       "      <td>115712</td>\n",
       "      <td>True</td>\n",
       "      <td>Tue Oct 31 22:08:27 +0000 2017</td>\n",
       "      <td>@sprintcare I have sent several private messag...</td>\n",
       "      <td>1</td>\n",
       "      <td>4.0</td>\n",
       "      <td>4.0</td>\n",
       "      <td>82</td>\n",
       "      <td>i have sent several private messages and no on...</td>\n",
       "      <td>negative</td>\n",
       "      <td>negative</td>\n",
       "      <td>negative</td>\n",
       "      <td>negative</td>\n",
       "    </tr>\n",
       "    <tr>\n",
       "      <th>2</th>\n",
       "      <td>5</td>\n",
       "      <td>115712</td>\n",
       "      <td>True</td>\n",
       "      <td>Tue Oct 31 21:49:35 +0000 2017</td>\n",
       "      <td>@sprintcare I did.</td>\n",
       "      <td>4</td>\n",
       "      <td>6.0</td>\n",
       "      <td>6.0</td>\n",
       "      <td>18</td>\n",
       "      <td>i did</td>\n",
       "      <td>neutral</td>\n",
       "      <td>positive</td>\n",
       "      <td>neutral</td>\n",
       "      <td>neutral</td>\n",
       "    </tr>\n",
       "    <tr>\n",
       "      <th>3</th>\n",
       "      <td>8</td>\n",
       "      <td>115712</td>\n",
       "      <td>True</td>\n",
       "      <td>Tue Oct 31 21:45:10 +0000 2017</td>\n",
       "      <td>@sprintcare is the worst customer service</td>\n",
       "      <td>9,6,10</td>\n",
       "      <td>NaN</td>\n",
       "      <td>8.0</td>\n",
       "      <td>41</td>\n",
       "      <td>is the worst customer service</td>\n",
       "      <td>negative</td>\n",
       "      <td>negative</td>\n",
       "      <td>negative</td>\n",
       "      <td>negative</td>\n",
       "    </tr>\n",
       "    <tr>\n",
       "      <th>4</th>\n",
       "      <td>12</td>\n",
       "      <td>115713</td>\n",
       "      <td>True</td>\n",
       "      <td>Tue Oct 31 22:04:47 +0000 2017</td>\n",
       "      <td>@sprintcare You gonna magically change your co...</td>\n",
       "      <td>11,13,14</td>\n",
       "      <td>15.0</td>\n",
       "      <td>15.0</td>\n",
       "      <td>89</td>\n",
       "      <td>you gonna magically change your connectivity f...</td>\n",
       "      <td>neutral</td>\n",
       "      <td>positive</td>\n",
       "      <td>neutral</td>\n",
       "      <td>neutral</td>\n",
       "    </tr>\n",
       "  </tbody>\n",
       "</table>\n",
       "</div>"
      ],
      "text/plain": [
       "   tweet_id  author_id  inbound                      created_at  \\\n",
       "0         2     115712     True  Tue Oct 31 22:11:45 +0000 2017   \n",
       "1         3     115712     True  Tue Oct 31 22:08:27 +0000 2017   \n",
       "2         5     115712     True  Tue Oct 31 21:49:35 +0000 2017   \n",
       "3         8     115712     True  Tue Oct 31 21:45:10 +0000 2017   \n",
       "4        12     115713     True  Tue Oct 31 22:04:47 +0000 2017   \n",
       "\n",
       "                                                text response_tweet_id  \\\n",
       "0      @sprintcare and how do you propose we do that               NaN   \n",
       "1  @sprintcare I have sent several private messag...                 1   \n",
       "2                                 @sprintcare I did.                 4   \n",
       "3          @sprintcare is the worst customer service            9,6,10   \n",
       "4  @sprintcare You gonna magically change your co...          11,13,14   \n",
       "\n",
       "   in_response_to_tweet_id  conversation_id  message_length  \\\n",
       "0                      1.0              1.0              45   \n",
       "1                      4.0              4.0              82   \n",
       "2                      6.0              6.0              18   \n",
       "3                      NaN              8.0              41   \n",
       "4                     15.0             15.0              89   \n",
       "\n",
       "                                          clean_text vader_sentiment  \\\n",
       "0                  and how do you propose we do that         neutral   \n",
       "1  i have sent several private messages and no on...        negative   \n",
       "2                                              i did         neutral   \n",
       "3                      is the worst customer service        negative   \n",
       "4  you gonna magically change your connectivity f...         neutral   \n",
       "\n",
       "  distilbert_sentiment roberta_sentiment final_label  \n",
       "0             positive           neutral     neutral  \n",
       "1             negative          negative    negative  \n",
       "2             positive           neutral     neutral  \n",
       "3             negative          negative    negative  \n",
       "4             positive           neutral     neutral  "
      ]
     },
     "execution_count": 2,
     "metadata": {},
     "output_type": "execute_result"
    }
   ],
   "source": [
    "# Loading the labelled data\n",
    "df = pd.read_csv('/Users/diegolemos/Masters/ML/CA2/labelled_data_final.csv')\n",
    "\n",
    "# Checking the file\n",
    "df.head()"
   ]
  },
  {
   "cell_type": "code",
   "execution_count": 3,
   "id": "9ff85974",
   "metadata": {},
   "outputs": [
    {
     "data": {
      "text/plain": [
       "final_label\n",
       "negative    797863\n",
       "positive    424513\n",
       "neutral     315467\n",
       "Name: count, dtype: int64"
      ]
     },
     "execution_count": 3,
     "metadata": {},
     "output_type": "execute_result"
    }
   ],
   "source": [
    "# Checking final_label count\n",
    "df['final_label'].value_counts()"
   ]
  },
  {
   "cell_type": "code",
   "execution_count": 4,
   "id": "45134046",
   "metadata": {},
   "outputs": [],
   "source": [
    "# Train, test and split data\n",
    "X = df['clean_text']\n",
    "y = df['final_label']\n",
    "\n",
    "# Using stratify for balanced classes\n",
    "X_train, X_test, y_train, y_test = train_test_split(X, y, test_size = 0.2, stratify = y, random_state = 42) "
   ]
  },
  {
   "cell_type": "code",
   "execution_count": 5,
   "id": "ba9ed8a8",
   "metadata": {},
   "outputs": [],
   "source": [
    "# Dropping NaN values in clean_text before vectorization\n",
    "# For training\n",
    "train_df = pd.DataFrame({'text': X_train, 'label': y_train})\n",
    "train_df = train_df.dropna(subset=['text'])\n",
    "\n",
    "X_train = train_df['text']\n",
    "y_train = train_df['label']\n",
    "\n",
    "# For testing\n",
    "test_df = pd.DataFrame({'text': X_test, 'label': y_test})\n",
    "test_df = test_df.dropna(subset=['text'])\n",
    "\n",
    "X_test = test_df['text']\n",
    "y_test = test_df['label']"
   ]
  },
  {
   "cell_type": "code",
   "execution_count": 6,
   "id": "84d1e5b1",
   "metadata": {},
   "outputs": [],
   "source": [
    "# Creating TF-IDF vectorizer\n",
    "vectorizer = TfidfVectorizer(max_features = 5000, ngram_range = (1, 2))\n",
    "\n",
    "# Fit on train\n",
    "X_train_tfidf = vectorizer.fit_transform(X_train)\n",
    "X_test_tfidf = vectorizer.transform(X_test)"
   ]
  },
  {
   "cell_type": "code",
   "execution_count": 13,
   "id": "4bb61d8f",
   "metadata": {},
   "outputs": [
    {
     "name": "stderr",
     "output_type": "stream",
     "text": [
      "/opt/anaconda3/lib/python3.12/site-packages/sklearn/svm/_classes.py:31: FutureWarning: The default value of `dual` will change from `True` to `'auto'` in 1.5. Set the value of `dual` explicitly to suppress the warning.\n",
      "  warnings.warn(\n"
     ]
    },
    {
     "name": "stdout",
     "output_type": "stream",
     "text": [
      "SVM Classification Report: \n",
      "              precision    recall  f1-score   support\n",
      "\n",
      "    negative       0.90      0.85      0.87    159573\n",
      "     neutral       0.75      0.90      0.82     59184\n",
      "    positive       0.84      0.80      0.82     84903\n",
      "\n",
      "    accuracy                           0.85    303660\n",
      "   macro avg       0.83      0.85      0.84    303660\n",
      "weighted avg       0.85      0.85      0.85    303660\n",
      "\n"
     ]
    }
   ],
   "source": [
    "# Deploying SVM\n",
    "svm = LinearSVC(class_weight='balanced')\n",
    "svm.fit(X_train_tfidf, y_train)\n",
    "svm_preds = svm.predict(X_test_tfidf)\n",
    "\n",
    "print('SVM Classification Report: ')\n",
    "print(classification_report(y_test, svm_preds))"
   ]
  },
  {
   "cell_type": "code",
   "execution_count": 14,
   "id": "3f1e40f3",
   "metadata": {},
   "outputs": [
    {
     "name": "stdout",
     "output_type": "stream",
     "text": [
      "Random Forest Classification Report: \n",
      "              precision    recall  f1-score   support\n",
      "\n",
      "    negative       0.81      0.78      0.80    159573\n",
      "     neutral       0.54      0.82      0.65     59184\n",
      "    positive       0.82      0.59      0.69     84903\n",
      "\n",
      "    accuracy                           0.73    303660\n",
      "   macro avg       0.72      0.73      0.71    303660\n",
      "weighted avg       0.76      0.73      0.74    303660\n",
      "\n"
     ]
    }
   ],
   "source": [
    "# Deploying Random Forest\n",
    "rf = RandomForestClassifier(n_estimators = 100, max_depth = 40, class_weight='balanced', random_state = 42)\n",
    "rf.fit(X_train_tfidf, y_train)\n",
    "rf_preds = rf.predict((X_test_tfidf))\n",
    "\n",
    "print('Random Forest Classification Report: ')\n",
    "print(classification_report(y_test, rf_preds))"
   ]
  },
  {
   "cell_type": "markdown",
   "id": "aee45d94",
   "metadata": {},
   "source": [
    "#### Comparing Models"
   ]
  },
  {
   "cell_type": "code",
   "execution_count": 15,
   "id": "bcf6da6a",
   "metadata": {},
   "outputs": [
    {
     "data": {
      "text/html": [
       "<div>\n",
       "<style scoped>\n",
       "    .dataframe tbody tr th:only-of-type {\n",
       "        vertical-align: middle;\n",
       "    }\n",
       "\n",
       "    .dataframe tbody tr th {\n",
       "        vertical-align: top;\n",
       "    }\n",
       "\n",
       "    .dataframe thead th {\n",
       "        text-align: right;\n",
       "    }\n",
       "</style>\n",
       "<table border=\"1\" class=\"dataframe\">\n",
       "  <thead>\n",
       "    <tr style=\"text-align: right;\">\n",
       "      <th></th>\n",
       "      <th>Model</th>\n",
       "      <th>Accuracy</th>\n",
       "      <th>Macro Avg F1</th>\n",
       "      <th>Weighted Avg F1</th>\n",
       "      <th>Macro Avg Precision</th>\n",
       "      <th>Macro Avg Recall</th>\n",
       "    </tr>\n",
       "  </thead>\n",
       "  <tbody>\n",
       "    <tr>\n",
       "      <th>0</th>\n",
       "      <td>SVM (Balanced)</td>\n",
       "      <td>0.85</td>\n",
       "      <td>0.84</td>\n",
       "      <td>0.85</td>\n",
       "      <td>0.83</td>\n",
       "      <td>0.85</td>\n",
       "    </tr>\n",
       "    <tr>\n",
       "      <th>1</th>\n",
       "      <td>Random Forest (Balanced)</td>\n",
       "      <td>0.73</td>\n",
       "      <td>0.71</td>\n",
       "      <td>0.74</td>\n",
       "      <td>0.72</td>\n",
       "      <td>0.73</td>\n",
       "    </tr>\n",
       "  </tbody>\n",
       "</table>\n",
       "</div>"
      ],
      "text/plain": [
       "                      Model  Accuracy  Macro Avg F1  Weighted Avg F1  \\\n",
       "0            SVM (Balanced)      0.85          0.84             0.85   \n",
       "1  Random Forest (Balanced)      0.73          0.71             0.74   \n",
       "\n",
       "   Macro Avg Precision  Macro Avg Recall  \n",
       "0                 0.83              0.85  \n",
       "1                 0.72              0.73  "
      ]
     },
     "execution_count": 15,
     "metadata": {},
     "output_type": "execute_result"
    }
   ],
   "source": [
    "# Summary table of ML models\n",
    "model_comparison = pd.DataFrame({\n",
    "    'Model': ['SVM (Balanced)', 'Random Forest (Balanced)'],\n",
    "    'Accuracy': [0.85, 0.73],\n",
    "    'Macro Avg F1': [0.84, 0.71],\n",
    "    'Weighted Avg F1': [0.85, 0.74],\n",
    "    'Macro Avg Precision': [0.83, 0.72],\n",
    "    'Macro Avg Recall': [0.85, 0.73]\n",
    "})\n",
    "\n",
    "model_comparison"
   ]
  },
  {
   "cell_type": "code",
   "execution_count": 16,
   "id": "926c9969",
   "metadata": {},
   "outputs": [
    {
     "data": {
      "image/png": "[encoded data removed]",
      "text/plain": [
       "<Figure size 800x500 with 1 Axes>"
      ]
     },
     "metadata": {},
     "output_type": "display_data"
    }
   ],
   "source": [
    "# Plotting F1-score for comparison\n",
    "plt.figure(figsize=(8,5))\n",
    "plt.bar(model_comparison['Model'], model_comparison['Weighted Avg F1'], color=['green', 'blue'])\n",
    "plt.ylabel('Weighted F1-score')\n",
    "plt.title('Model Comparison: Weighted F1-score')\n",
    "plt.ylim(0, 1)\n",
    "plt.show()"
   ]
  },
  {
   "cell_type": "markdown",
   "id": "0d330058",
   "metadata": {},
   "source": [
    "#### Machine Learning Model Evaluation Summary\n",
    "Two traditional machine learning models were trained and evaluate, Linear SVM and Random Forest. Both models were trained with class weighting to address class imbalance in the sentiment dataset.\n",
    "\n",
    "Due to time and computational constraints, SMOTE was not applied. Instead, class weights were considered for handling class imbalance.\n",
    "\n",
    "##### Results Overview:\n",
    "- SVM with \"class_weight='balanced'\" achieved an overall accuracy of 85% and a macro F1-score of 0.84, making it the best performer. The SVM model maintained high precision and recall across all three sentiment classes, demonstrating robust performance even with imbalanced data.\n",
    "\n",
    "- Random Forest with max_depth = 40, class_weight='balanced' achieved an accuracy of 73% and a macro F1-score of 0.71. While recall for the negative class was high, the model continued to underperform on the neutral and positive classes compared to SVM, despite the use of class weighting.\n",
    "  \n",
    "##### Insights:\n",
    "- Using class weighting improved the balance of recall and precision, especially for the minority classes neutral and positive, but SVM consistently provided the most stable and balanced results across all metrics.\n",
    "\n",
    "- Random Forest, although improved with class weighting, still lagged behind SVM, particularly in precision for the neutral class, and showed signs of difficulty generalizing across all classes.\n",
    "\n",
    "##### Conclusion:\n",
    "- SVM with class weighting is the preferred traditional machine learning model for this task, based on both performance and efficiency.\n",
    "\n",
    "- The updated results confirm that addressing class imbalance is essential for fair evaluation.\n",
    "\n",
    "- These results will serve as the main benchmark for comparison as we move forward to developing and evaluating deep learning models.\n"
   ]
  }
 ],
 "metadata": {
  "kernelspec": {
   "display_name": "base",
   "language": "python",
   "name": "python3"
  },
  "language_info": {
   "codemirror_mode": {
    "name": "ipython",
    "version": 3
   },
   "file_extension": ".py",
   "mimetype": "text/x-python",
   "name": "python",
   "nbconvert_exporter": "python",
   "pygments_lexer": "ipython3",
   "version": "3.12.4"
  }
 },
 "nbformat": 4,
 "nbformat_minor": 5
}
